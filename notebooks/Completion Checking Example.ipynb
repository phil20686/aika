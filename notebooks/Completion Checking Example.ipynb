{
 "cells": [
  {
   "cell_type": "code",
   "execution_count": 8,
   "id": "bf2d679c",
   "metadata": {
    "scrolled": true
   },
   "outputs": [],
   "source": [
    "from pprint import pprint\n",
    "\n",
    "import pandas as pd\n",
    "\n",
    "from aika import putki\n",
    "from aika.putki import CalendarChecker\n",
    "from aika.putki.context import Defaults, GraphContext\n",
    "from aika.putki.graph import Graph, TaskModule\n",
    "from aika.putki.runners import LocalRunner\n",
    "from aika.putki.interface import Dependency\n",
    "from aika.time.calendars import TimeOfDayCalendar\n",
    "from aika.time.time_of_day import TimeOfDay\n",
    "from aika.time.time_range import TimeRange#\n",
    "from aika.time.timestamp import Timestamp\n",
    "from aika.utilities.fin.macd import macd\n",
    "\n",
    "from aika.datagraph.persistence.hash_backed import HashBackedPersistanceEngine\n",
    "from aika.datagraph.persistence.mongo_backed import MongoBackedPersistanceEngine\n",
    "from pandas_datareader import data\n",
    "import typing as t\n",
    "from pandas.tseries.offsets import BDay, CDay\n",
    "import pymongo\n",
    "#this is new code\n",
    "import yfinance as yf\n",
    "yf.pdr_override()"
   ]
  },
  {
   "cell_type": "markdown",
   "id": "cdbf0e9e",
   "metadata": {},
   "source": [
    "## Create your first function. \n",
    "This just uses pandas datareader project to pull some stock data from yahoo. "
   ]
  },
  {
   "cell_type": "code",
   "execution_count": 13,
   "id": "3bb2f8d6",
   "metadata": {},
   "outputs": [],
   "source": [
    "\n",
    "tod = TimeOfDay.from_str(\"16:30:00 [America/New_York]\")\n",
    "\n",
    "def pull_google_finance_data(\n",
    "    tickers : t.List,\n",
    "    time_range,\n",
    "):\n",
    "    finance_data = map(lambda stock: data.get_data_yahoo(stock,start=time_range.start, end=time_range.end),tickers)\n",
    "    df = pd.concat(finance_data)\n",
    "    df.index.name = None\n",
    "    df.index = df.index.map(tod.make_timestamp) # this ensures it has a timezone.\n",
    "\n",
    "    return df[\"Adj Close\"]"
   ]
  },
  {
   "cell_type": "code",
   "execution_count": 14,
   "id": "3b1821d7",
   "metadata": {
    "scrolled": true
   },
   "outputs": [
    {
     "name": "stdout",
     "output_type": "stream",
     "text": [
      "[*********************100%***********************]  1 of 1 completed\n",
      "[*********************100%***********************]  1 of 1 completed\n"
     ]
    },
    {
     "data": {
      "text/plain": [
       "2018-01-02 16:30:00-05:00    40.888069\n",
       "2018-01-03 16:30:00-05:00    40.880936\n",
       "2018-01-04 16:30:00-05:00    41.070835\n",
       "2018-01-05 16:30:00-05:00    41.538445\n",
       "2018-01-08 16:30:00-05:00    41.384151\n",
       "                               ...    \n",
       "2019-12-24 16:30:00-05:00    67.221497\n",
       "2019-12-26 16:30:00-05:00    68.123497\n",
       "2019-12-27 16:30:00-05:00    67.732002\n",
       "2019-12-30 16:30:00-05:00    66.985497\n",
       "2019-12-31 16:30:00-05:00    66.969498\n",
       "Name: Adj Close, Length: 1006, dtype: float64"
      ]
     },
     "execution_count": 14,
     "metadata": {},
     "output_type": "execute_result"
    }
   ],
   "source": [
    "df = pull_google_finance_data([\"AAPL\", \"GOOGL\"], TimeRange(\"2018\", \"2020\"))\n",
    "df"
   ]
  },
  {
   "cell_type": "markdown",
   "id": "348e81a0",
   "metadata": {},
   "source": [
    "Note the missing days, hour holiday calendar."
   ]
  },
  {
   "cell_type": "code",
   "execution_count": 15,
   "id": "ac0404fd",
   "metadata": {},
   "outputs": [
    {
     "data": {
      "text/plain": [
       "DatetimeIndex(['2018-01-01', '2018-01-15', '2018-02-19', '2018-03-30',\n",
       "               '2018-05-28', '2018-07-04', '2018-09-03', '2018-11-22',\n",
       "               '2018-12-05', '2018-12-25', '2019-01-01', '2019-01-21',\n",
       "               '2019-02-18', '2019-04-19', '2019-05-27', '2019-07-04',\n",
       "               '2019-09-02', '2019-11-28', '2019-12-25', '2020-01-01'],\n",
       "              dtype='datetime64[ns]', freq=None)"
      ]
     },
     "execution_count": 15,
     "metadata": {},
     "output_type": "execute_result"
    }
   ],
   "source": [
    "holidays = pd.bdate_range(start=\"2018\", end=\"2020\").difference(df.index.date)\n",
    "holidays"
   ]
  },
  {
   "cell_type": "code",
   "execution_count": 16,
   "id": "1e1df702",
   "metadata": {},
   "outputs": [],
   "source": [
    "context_ends_trading_day = GraphContext(\n",
    "    defaults=Defaults(\n",
    "        version=\"research\", \n",
    "        persistence_engine=HashBackedPersistanceEngine(), \n",
    "        time_range= TimeRange(\"2018\", \"2020\")\n",
    "    )\n",
    ")\n",
    "\n",
    "context_ends_holiday = GraphContext(\n",
    "    defaults=Defaults(\n",
    "        version=\"research2\", \n",
    "        persistence_engine=HashBackedPersistanceEngine(), \n",
    "        time_range= TimeRange(\"2018\", \"2019-12-26\")\n",
    "    )\n",
    ")"
   ]
  },
  {
   "cell_type": "code",
   "execution_count": 17,
   "id": "8bc6bae4",
   "metadata": {},
   "outputs": [
    {
     "name": "stdout",
     "output_type": "stream",
     "text": [
      "[*********************100%***********************]  1 of 1 completed\n",
      "[*********************100%***********************]  1 of 1 completed\n"
     ]
    },
    {
     "ename": "ValueError",
     "evalue": "The task appeared to run successfully and wrote its output, but according to its completion checker it is not complete.",
     "output_type": "error",
     "traceback": [
      "\u001b[1;31m---------------------------------------------------------------------------\u001b[0m",
      "\u001b[1;31mValueError\u001b[0m                                Traceback (most recent call last)",
      "Cell \u001b[1;32mIn[17], line 9\u001b[0m\n\u001b[0;32m      1\u001b[0m close_prices_broken \u001b[38;5;241m=\u001b[39m context_ends_holiday\u001b[38;5;241m.\u001b[39mtime_series_task(\n\u001b[0;32m      2\u001b[0m     \u001b[38;5;124m\"\u001b[39m\u001b[38;5;124mclose_prices\u001b[39m\u001b[38;5;124m\"\u001b[39m,\n\u001b[0;32m      3\u001b[0m     pull_google_finance_data,\n\u001b[1;32m   (...)\u001b[0m\n\u001b[0;32m      7\u001b[0m     )\n\u001b[0;32m      8\u001b[0m )\n\u001b[1;32m----> 9\u001b[0m \u001b[43mclose_prices_broken\u001b[49m\u001b[38;5;241;43m.\u001b[39;49m\u001b[43mrun\u001b[49m\u001b[43m(\u001b[49m\u001b[43m)\u001b[49m\n",
      "File \u001b[1;32mc:\\users\\benwe\\pycharmprojects\\aika\\libs\\putki\\src\\aika\\putki\\task.py:124\u001b[0m, in \u001b[0;36mTimeSeriesFunctionWrapper.run\u001b[1;34m(self)\u001b[0m\n\u001b[0;32m    122\u001b[0m \u001b[38;5;28mself\u001b[39m\u001b[38;5;241m.\u001b[39mwrite_data(result)\n\u001b[0;32m    123\u001b[0m \u001b[38;5;28;01mif\u001b[39;00m \u001b[38;5;129;01mnot\u001b[39;00m \u001b[38;5;28mself\u001b[39m\u001b[38;5;241m.\u001b[39mcomplete():\n\u001b[1;32m--> 124\u001b[0m     \u001b[38;5;28;01mraise\u001b[39;00m \u001b[38;5;167;01mValueError\u001b[39;00m(\n\u001b[0;32m    125\u001b[0m         \u001b[38;5;124m\"\u001b[39m\u001b[38;5;124mThe task appeared to run successfully and wrote its output, \u001b[39m\u001b[38;5;124m\"\u001b[39m\n\u001b[0;32m    126\u001b[0m         \u001b[38;5;124m\"\u001b[39m\u001b[38;5;124mbut according to its completion checker it is not complete.\u001b[39m\u001b[38;5;124m\"\u001b[39m\n\u001b[0;32m    127\u001b[0m     )\n",
      "\u001b[1;31mValueError\u001b[0m: The task appeared to run successfully and wrote its output, but according to its completion checker it is not complete."
     ]
    }
   ],
   "source": [
    "close_prices_broken = context_ends_holiday.time_series_task(\n",
    "    \"close_prices\",\n",
    "    pull_google_finance_data,\n",
    "    tickers=(\"AAPL\", \"GOOGL\"),\n",
    "    completion_checker=CalendarChecker(\n",
    "        TimeOfDayCalendar(time_of_day=tod, freq=BDay())\n",
    "    )\n",
    ")\n",
    "close_prices_broken.run()"
   ]
  },
  {
   "cell_type": "markdown",
   "id": "fc88fd2a",
   "metadata": {},
   "source": [
    "Note the above error message, the task did write output, but as it did not know that it was a holiday it appears to be missing a day, it was expecting an entry on christmas day, but if we read it we see:"
   ]
  },
  {
   "cell_type": "code",
   "execution_count": 18,
   "id": "1e4546ed",
   "metadata": {},
   "outputs": [
    {
     "data": {
      "text/plain": [
       "2019-12-18 16:30:00-05:00    67.595497\n",
       "2019-12-19 16:30:00-05:00    67.821999\n",
       "2019-12-20 16:30:00-05:00    67.560997\n",
       "2019-12-23 16:30:00-05:00    67.531502\n",
       "2019-12-24 16:30:00-05:00    67.221497\n",
       "Name: Adj Close, dtype: float64"
      ]
     },
     "execution_count": 18,
     "metadata": {},
     "output_type": "execute_result"
    }
   ],
   "source": [
    "close_prices_broken.read().tail()"
   ]
  },
  {
   "cell_type": "markdown",
   "id": "64e200ae",
   "metadata": {},
   "source": [
    "To fix this, we need only add a holiday calendar:"
   ]
  },
  {
   "cell_type": "code",
   "execution_count": 19,
   "id": "4bc88989",
   "metadata": {},
   "outputs": [
    {
     "name": "stdout",
     "output_type": "stream",
     "text": [
      "[*********************100%***********************]  1 of 1 completed\n",
      "[*********************100%***********************]  1 of 1 completed\n"
     ]
    },
    {
     "data": {
      "text/plain": [
       "2019-12-18 16:30:00-05:00    67.595497\n",
       "2019-12-19 16:30:00-05:00    67.821999\n",
       "2019-12-20 16:30:00-05:00    67.560997\n",
       "2019-12-23 16:30:00-05:00    67.531502\n",
       "2019-12-24 16:30:00-05:00    67.221497\n",
       "Name: Adj Close, dtype: float64"
      ]
     },
     "execution_count": 19,
     "metadata": {},
     "output_type": "execute_result"
    }
   ],
   "source": [
    "close_prices_fixed = context_ends_holiday.time_series_task(\n",
    "    \"close_prices_fixed\",\n",
    "    pull_google_finance_data,\n",
    "    tickers=(\"AAPL\", \"GOOGL\"),\n",
    "    completion_checker=CalendarChecker(\n",
    "        TimeOfDayCalendar(time_of_day=tod, freq=CDay(weekmask=\"1111100\", holidays=holidays))\n",
    "    )\n",
    ")\n",
    "close_prices_fixed.run()\n",
    "close_prices_fixed.read().tail()"
   ]
  },
  {
   "cell_type": "markdown",
   "id": "03a1f7c8",
   "metadata": {},
   "source": [
    "Note that both of these tasks wrote the same data, just one correctly knows not to expect data on the day in question."
   ]
  }
 ],
 "metadata": {
  "kernelspec": {
   "display_name": "Python 3 (ipykernel)",
   "language": "python",
   "name": "python3"
  },
  "language_info": {
   "codemirror_mode": {
    "name": "ipython",
    "version": 3
   },
   "file_extension": ".py",
   "mimetype": "text/x-python",
   "name": "python",
   "nbconvert_exporter": "python",
   "pygments_lexer": "ipython3",
   "version": "3.10.4"
  }
 },
 "nbformat": 4,
 "nbformat_minor": 5
}
