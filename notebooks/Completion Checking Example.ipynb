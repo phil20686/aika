{
 "cells": [
  {
   "cell_type": "code",
   "execution_count": null,
   "id": "bf2d679c",
   "metadata": {
    "scrolled": true
   },
   "outputs": [],
   "source": [
    "from pprint import pprint\n",
    "\n",
    "import pandas as pd\n",
    "\n",
    "from aika import putki\n",
    "from aika.putki import CalendarChecker\n",
    "from aika.putki.context import Defaults, GraphContext\n",
    "from aika.putki.graph import Graph, TaskModule\n",
    "from aika.putki.runners import LocalRunner\n",
    "from aika.putki.interface import Dependency\n",
    "from aika.time.calendars import TimeOfDayCalendar\n",
    "from aika.time.time_of_day import TimeOfDay\n",
    "from aika.time.time_range import TimeRange#\n",
    "from aika.time.timestamp import Timestamp\n",
    "from aika.utilities.fin.macd import macd\n",
    "\n",
    "from aika.datagraph.persistence.hash_backed import HashBackedPersistanceEngine\n",
    "from aika.datagraph.persistence.mongo_backed import MongoBackedPersistanceEngine\n",
    "from pandas_datareader import data\n",
    "import typing as t\n",
    "from pandas.tseries.offsets import BDay, CDay\n",
    "import pymongo"
   ]
  },
  {
   "cell_type": "markdown",
   "id": "cdbf0e9e",
   "metadata": {},
   "source": [
    "## Create your first function. \n",
    "This just uses pandas datareader project to pull some stock data from yahoo. "
   ]
  },
  {
   "cell_type": "code",
   "execution_count": null,
   "id": "3bb2f8d6",
   "metadata": {},
   "outputs": [],
   "source": [
    "tod = TimeOfDay.from_str(\"16:30:00 [America/New_York]\")\n",
    "\n",
    "def pull_google_finance_data(\n",
    "    tickers : t.List,\n",
    "    time_range,\n",
    "):\n",
    "    df = data.DataReader(list(tickers), \"yahoo\", start=time_range.start, end=time_range.end)\n",
    "    df.index.name = None\n",
    "    df.index = df.index.map(tod.make_timestamp) # this ensures it has a timezone.\n",
    "    return df[\"Adj Close\"]"
   ]
  },
  {
   "cell_type": "code",
   "execution_count": null,
   "id": "3b1821d7",
   "metadata": {
    "scrolled": true
   },
   "outputs": [],
   "source": [
    "df = pull_google_finance_data([\"AAPL\", \"GOOGL\"], TimeRange(\"2018\", \"2020\"))\n",
    "df"
   ]
  },
  {
   "cell_type": "markdown",
   "id": "348e81a0",
   "metadata": {},
   "source": [
    "Note the missing days, hour holiday calendar."
   ]
  },
  {
   "cell_type": "code",
   "execution_count": null,
   "id": "ac0404fd",
   "metadata": {},
   "outputs": [],
   "source": [
    "holidays = pd.bdate_range(start=\"2018\", end=\"2020\").difference(df.index.date)\n",
    "holidays"
   ]
  },
  {
   "cell_type": "code",
   "execution_count": null,
   "id": "1e1df702",
   "metadata": {},
   "outputs": [],
   "source": [
    "context_ends_trading_day = GraphContext(\n",
    "    defaults=Defaults(\n",
    "        version=\"research\", \n",
    "        persistence_engine=HashBackedPersistanceEngine(), \n",
    "        time_range= TimeRange(\"2018\", \"2020\")\n",
    "    )\n",
    ")\n",
    "\n",
    "context_ends_holiday = GraphContext(\n",
    "    defaults=Defaults(\n",
    "        version=\"research2\", \n",
    "        persistence_engine=HashBackedPersistanceEngine(), \n",
    "        time_range= TimeRange(\"2018\", \"2019-12-26\")\n",
    "    )\n",
    ")"
   ]
  },
  {
   "cell_type": "code",
   "execution_count": null,
   "id": "8bc6bae4",
   "metadata": {},
   "outputs": [],
   "source": [
    "close_prices_broken = context_ends_holiday.time_series_task(\n",
    "    \"close_prices\",\n",
    "    pull_google_finance_data,\n",
    "    tickers=(\"AAPL\", \"GOOGL\"),\n",
    "    completion_checker=CalendarChecker(\n",
    "        TimeOfDayCalendar(time_of_day=tod, freq=BDay())\n",
    "    )\n",
    ")\n",
    "close_prices_broken.run()"
   ]
  },
  {
   "cell_type": "markdown",
   "id": "fc88fd2a",
   "metadata": {},
   "source": [
    "Note the above error message, the task did write output, but as it did not know that it was a holiday it appears to be missing a day, it was expecting an entry on christmas day, but if we read it we see:"
   ]
  },
  {
   "cell_type": "code",
   "execution_count": null,
   "id": "1e4546ed",
   "metadata": {},
   "outputs": [],
   "source": [
    "close_prices_broken.read().tail()"
   ]
  },
  {
   "cell_type": "markdown",
   "id": "64e200ae",
   "metadata": {},
   "source": [
    "To fix this, we need only add a holiday calendar:"
   ]
  },
  {
   "cell_type": "code",
   "execution_count": null,
   "id": "4bc88989",
   "metadata": {},
   "outputs": [],
   "source": [
    "close_prices_fixed = context_ends_holiday.time_series_task(\n",
    "    \"close_prices_fixed\",\n",
    "    pull_google_finance_data,\n",
    "    tickers=(\"AAPL\", \"GOOGL\"),\n",
    "    completion_checker=CalendarChecker(\n",
    "        TimeOfDayCalendar(time_of_day=tod, freq=CDay(weekmask=\"1111100\", holidays=holidays))\n",
    "    )\n",
    ")\n",
    "close_prices_fixed.run()\n",
    "close_prices_fixed.read().tail()"
   ]
  },
  {
   "cell_type": "markdown",
   "id": "03a1f7c8",
   "metadata": {},
   "source": [
    "Note that both of these tasks wrote the same data, just one correctly knows not to expect data on the day in question."
   ]
  }
 ],
 "metadata": {
  "kernelspec": {
   "display_name": "Python 3 (ipykernel)",
   "language": "python",
   "name": "python3"
  },
  "language_info": {
   "codemirror_mode": {
    "name": "ipython",
    "version": 3
   },
   "file_extension": ".py",
   "mimetype": "text/x-python",
   "name": "python",
   "nbconvert_exporter": "python",
   "pygments_lexer": "ipython3",
   "version": "3.10.4"
  }
 },
 "nbformat": 4,
 "nbformat_minor": 5
}
